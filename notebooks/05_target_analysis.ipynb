{
 "cells": [
  {
   "cell_type": "code",
   "execution_count": null,
   "metadata": {},
   "outputs": [],
   "source": [
    "import pandas as pd\n",
    "import numpy as np\n",
    "\n",
    "# 모든 열이 출력되도록 설정\n",
    "pd.set_option('display.max_columns', None)\n",
    "\n",
    "df = pd.read_csv(\"../data/processed/db_network_data_table.csv\")\n",
    "\n",
    "# 11.7s"
   ]
  },
  {
   "cell_type": "code",
   "execution_count": null,
   "metadata": {},
   "outputs": [
    {
     "name": "stdout",
     "output_type": "stream",
     "text": [
      "Source별 Label의 고유값 빈도수 (원본 라벨 포함):\n",
      "Label   BENIGN  FTP-Patator  SSH-Patator  DoS slowloris  DoS Slowhttptest  \\\n",
      "source                                                                      \n",
      "1        97718            0            0              0                 0   \n",
      "2       127537            0            0              0                 0   \n",
      "3       189067            0            0              0                 0   \n",
      "4       529918            0            0              0                 0   \n",
      "5       288566            0            0              0                 0   \n",
      "6       168186            0            0              0                 0   \n",
      "7       432074         7938         5897              0                 0   \n",
      "8       440031            0            0           5796              5499   \n",
      "\n",
      "Label   DoS Hulk  DoS GoldenEye  Heartbleed  Web Attack � Brute Force  \\\n",
      "source                                                                  \n",
      "1              0              0           0                         0   \n",
      "2              0              0           0                         0   \n",
      "3              0              0           0                         0   \n",
      "4              0              0           0                         0   \n",
      "5              0              0           0                         0   \n",
      "6              0              0           0                      1507   \n",
      "7              0              0           0                         0   \n",
      "8         231073          10293          11                         0   \n",
      "\n",
      "Label   Web Attack � XSS  Web Attack � Sql Injection  Infiltration   Bot  \\\n",
      "source                                                                     \n",
      "1                      0                           0             0     0   \n",
      "2                      0                           0             0     0   \n",
      "3                      0                           0             0  1966   \n",
      "4                      0                           0             0     0   \n",
      "5                      0                           0            36     0   \n",
      "6                    652                          21             0     0   \n",
      "7                      0                           0             0     0   \n",
      "8                      0                           0             0     0   \n",
      "\n",
      "Label   PortScan    DDoS  \n",
      "source                    \n",
      "1              0  128027  \n",
      "2         158930       0  \n",
      "3              0       0  \n",
      "4              0       0  \n",
      "5              0       0  \n",
      "6              0       0  \n",
      "7              0       0  \n",
      "8              0       0  \n"
     ]
    }
   ],
   "source": [
    "# 라벨 인코딩 매핑\n",
    "label_mapping = {\n",
    "    'BENIGN': 0, 'FTP-Patator': 1, 'SSH-Patator': 2, 'DoS slowloris': 3,\n",
    "    'DoS Slowhttptest': 4, 'DoS Hulk': 5, 'DoS GoldenEye': 6, 'Heartbleed': 7,\n",
    "    'Web Attack � Brute Force': 8, 'Web Attack � XSS': 9,\n",
    "    'Web Attack � Sql Injection': 10, 'Infiltration': 11, 'Bot': 12,\n",
    "    'PortScan': 13, 'DDoS': 14\n",
    "}\n",
    "\n",
    "# 인코딩된 레이블을 원래 라벨로 변환하는 함수\n",
    "def decode_label(encoded_label):\n",
    "    for label, encoded in label_mapping.items():\n",
    "        if encoded_label == encoded:\n",
    "            return label\n",
    "    return None  # 해당하는 라벨이 없을 경우 None 반환\n",
    "\n",
    "# source 별로 Label의 고유값 빈도수 확인\n",
    "source_label_distribution = df.groupby('source')['Label'].value_counts().unstack(fill_value=0)\n",
    "\n",
    "# 인코딩된 Label 값을 원래 라벨로 변환하여 출력\n",
    "source_label_distribution_with_labels = source_label_distribution.rename(columns={v: decode_label(v) for v in source_label_distribution.columns})\n",
    "\n",
    "# 출력\n",
    "print(\"Source별 Label의 고유값 빈도수 (원본 라벨 포함):\")\n",
    "print(source_label_distribution_with_labels)\n",
    "\n",
    "# 0.1s"
   ]
  },
  {
   "cell_type": "code",
   "execution_count": null,
   "metadata": {},
   "outputs": [
    {
     "name": "stdout",
     "output_type": "stream",
     "text": [
      "\n",
      "타겟 변수의 고유값 및 분포 (원본 라벨 포함):\n",
      "Label\n",
      "0 (BENIGN)                         2273097\n",
      "5 (DoS Hulk)                        231073\n",
      "13 (PortScan)                       158930\n",
      "14 (DDoS)                           128027\n",
      "6 (DoS GoldenEye)                    10293\n",
      "1 (FTP-Patator)                       7938\n",
      "2 (SSH-Patator)                       5897\n",
      "3 (DoS slowloris)                     5796\n",
      "4 (DoS Slowhttptest)                  5499\n",
      "12 (Bot)                              1966\n",
      "8 (Web Attack � Brute Force)          1507\n",
      "9 (Web Attack � XSS)                   652\n",
      "11 (Infiltration)                       36\n",
      "10 (Web Attack � Sql Injection)         21\n",
      "7 (Heartbleed)                          11\n",
      "Name: count, dtype: int64\n"
     ]
    }
   ],
   "source": [
    "# 타겟 변수의 고유값과 빈도수 확인 (전체 데이터에서)\n",
    "target_distribution = df['Label'].value_counts()\n",
    "target_distribution_with_labels = target_distribution.rename(\n",
    "    index={v: f\"{v} ({decode_label(v)})\" for v in target_distribution.index}\n",
    ")\n",
    "\n",
    "print(\"\\n타겟 변수의 고유값 및 분포 (원본 라벨 포함):\")\n",
    "print(target_distribution_with_labels)\n",
    "\n",
    "# 0.0s"
   ]
  },
  {
   "cell_type": "code",
   "execution_count": null,
   "metadata": {},
   "outputs": [
    {
     "name": "stdout",
     "output_type": "stream",
     "text": [
      "\n",
      "타겟 변수의 결측치 개수: 0\n"
     ]
    }
   ],
   "source": [
    "# 타겟 변수에 결측치가 있는지 확인\n",
    "missing_values = df['Label'].isnull().sum()\n",
    "print(f\"\\n타겟 변수의 결측치 개수: {missing_values}\")\n",
    "\n",
    "# 0.0s"
   ]
  }
 ],
 "metadata": {
  "kernelspec": {
   "display_name": "base",
   "language": "python",
   "name": "python3"
  },
  "language_info": {
   "codemirror_mode": {
    "name": "ipython",
    "version": 3
   },
   "file_extension": ".py",
   "mimetype": "text/x-python",
   "name": "python",
   "nbconvert_exporter": "python",
   "pygments_lexer": "ipython3",
   "version": "3.12.4"
  }
 },
 "nbformat": 4,
 "nbformat_minor": 2
}
