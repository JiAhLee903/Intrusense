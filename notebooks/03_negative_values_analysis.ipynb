{
 "cells": [
  {
   "cell_type": "code",
   "execution_count": 1,
   "metadata": {},
   "outputs": [],
   "source": [
    "import pandas as pd\n",
    "\n",
    "# 모든 열이 출력되도록 설정\n",
    "pd.set_option('display.max_columns', None)\n",
    "\n",
    "df = pd.read_csv(\"../data/processed/db_network_data_table.csv\")\n",
    "\n",
    "# 11.1s"
   ]
  },
  {
   "cell_type": "markdown",
   "metadata": {},
   "source": [
    "## 음수가 포함된 칼럼에서 음수의 갯수 확인"
   ]
  },
  {
   "cell_type": "code",
   "execution_count": 2,
   "metadata": {},
   "outputs": [
    {
     "name": "stdout",
     "output_type": "stream",
     "text": [
      "      Negative columns name  Negative Count\n",
      "0             Flow Duration             115\n",
      "1              Flow Bytes/s              85\n",
      "2            Flow Packets/s             115\n",
      "3             Flow IAT Mean             115\n",
      "4              Flow IAT Max             115\n",
      "5              Flow IAT Min            2891\n",
      "6               Fwd IAT Min              17\n",
      "7         Fwd Header Length              35\n",
      "8         Bwd Header Length              22\n",
      "9       Fwd Header Length.1              35\n",
      "10   Init_Win_bytes_forward         1001189\n",
      "11  Init_Win_bytes_backward         1441552\n",
      "12     min_seg_size_forward              35\n",
      "\n",
      "음수가 포함된 칼럼 수: 13개\n",
      "음수가 포함된 데이터 수: 1444427\n",
      "전체 데이터에서 음수가 포함된 데이터 수의 비율: 0.0107\n"
     ]
    }
   ],
   "source": [
    "# 각 칼럼에서 음수인 값 개수 확인\n",
    "negative_column_counts = df.lt(0).sum()\n",
    "\n",
    "# 음수가 있는 칼럼만 필터링\n",
    "columns_with_negative_values = negative_column_counts[negative_column_counts > 0]\n",
    "\n",
    "# 결과를 DataFrame으로 변환하여 칼럼명 설정\n",
    "negative_columns_df = columns_with_negative_values.reset_index()\n",
    "negative_columns_df.columns = ['Negative columns name', 'Negative Count']\n",
    "\n",
    "# 출력\n",
    "print(negative_columns_df)\n",
    "print()\n",
    "print(f\"음수가 포함된 칼럼 수: {len(columns_with_negative_values)}개\")\n",
    "\n",
    "# 각 row에서 음수가 있는지 확인 (음수가 하나라도 있으면 True, 그렇지 않으면 False)\n",
    "rows_with_negative_values = df.lt(0).any(axis=1)\n",
    "\n",
    "# 음수가 포함된 row 수 계산\n",
    "negative_rows_count = rows_with_negative_values.sum()\n",
    "\n",
    "print(f\"음수가 포함된 데이터 수: {negative_rows_count}\")\n",
    "\n",
    "# 전체 데이터의 개수\n",
    "total_data_count = df.size\n",
    "\n",
    "# 음수가 포함된 데이터 수 (각 row에서 음수가 포함된 값의 개수)\n",
    "negative_values_count = (df < 0).sum().sum()\n",
    "\n",
    "# 음수가 포함된 데이터의 비율\n",
    "negative_values_ratio = negative_values_count / total_data_count\n",
    "\n",
    "print(f\"전체 데이터에서 음수가 포함된 데이터 수의 비율: {negative_values_ratio:.4f}\")\n",
    "\n",
    "# 0.4s"
   ]
  },
  {
   "cell_type": "markdown",
   "metadata": {},
   "source": [
    "## 각 칼럼에서 등장하는 음수 값 카운트"
   ]
  },
  {
   "cell_type": "code",
   "execution_count": 3,
   "metadata": {},
   "outputs": [
    {
     "name": "stdout",
     "output_type": "stream",
     "text": [
      "[Flow Duration]: 115 개\n",
      "Value: -1.0\tCount: 109, Labels(1): [0: 109]\n",
      "Value: -12.0\tCount: 2, Labels(1): [0: 2]\n",
      "Value: -2.0\tCount: 2, Labels(1): [0: 2]\n",
      "Value: -13.0\tCount: 1, Labels(1): [0: 1]\n",
      "Value: -4.0\tCount: 1, Labels(1): [0: 1]\n",
      "\n",
      "[Flow Bytes/s]: 85 개\n",
      "Value: -12000000.0\tCount: 50, Labels(1): [0: 50]\n",
      "Value: -6000000.0\tCount: 16, Labels(1): [0: 16]\n",
      "Value: -8000000.0\tCount: 13, Labels(1): [0: 13]\n",
      "Value: -193000000.0\tCount: 1, Labels(1): [0: 1]\n",
      "Value: -666667.0\tCount: 1, Labels(1): [0: 1]\n",
      "Value: -461538.0\tCount: 1, Labels(1): [0: 1]\n",
      "Value: -4000000.0\tCount: 1, Labels(1): [0: 1]\n",
      "Value: -1000000.0\tCount: 1, Labels(1): [0: 1]\n",
      "Value: -261000000.0\tCount: 1, Labels(1): [0: 1]\n",
      "\n",
      "[Flow Packets/s]: 115 개\n",
      "Value: -2000000.0\tCount: 109, Labels(1): [0: 109]\n",
      "Value: -166667.0\tCount: 2, Labels(1): [0: 2]\n",
      "Value: -1000000.0\tCount: 2, Labels(1): [0: 2]\n",
      "Value: -153846.0\tCount: 1, Labels(1): [0: 1]\n",
      "Value: -500000.0\tCount: 1, Labels(1): [0: 1]\n",
      "\n",
      "[Flow IAT Mean]: 115 개\n",
      "Value: -1.0\tCount: 109, Labels(1): [0: 109]\n",
      "Value: -12.0\tCount: 2, Labels(1): [0: 2]\n",
      "Value: -2.0\tCount: 2, Labels(1): [0: 2]\n",
      "Value: -13.0\tCount: 1, Labels(1): [0: 1]\n",
      "Value: -4.0\tCount: 1, Labels(1): [0: 1]\n",
      "\n",
      "[Flow IAT Max]: 115 개\n",
      "Value: -1.0\tCount: 109, Labels(1): [0: 109]\n",
      "Value: -12.0\tCount: 2, Labels(1): [0: 2]\n",
      "Value: -2.0\tCount: 2, Labels(1): [0: 2]\n",
      "Value: -13.0\tCount: 1, Labels(1): [0: 1]\n",
      "Value: -4.0\tCount: 1, Labels(1): [0: 1]\n",
      "\n",
      "[Flow IAT Min]: 2891 개\n",
      "Value: -1.0\tCount: 2754, Labels(8): [0: 2575, 5: 146, 14: 18, 1: 4, 6: 4, 7: 4, 2: 2, 11: 1]\n",
      "Value: -12.0\tCount: 32, Labels(3): [0: 28, 5: 3, 14: 1]\n",
      "Value: -2.0\tCount: 27, Labels(2): [0: 26, 5: 1]\n",
      "Value: -3.0\tCount: 17, Labels(2): [0: 14, 5: 3]\n",
      "Value: -4.0\tCount: 17, Labels(2): [0: 16, 5: 1]\n",
      "Value: -11.0\tCount: 12, Labels(3): [0: 10, 5: 1, 6: 1]\n",
      "Value: -13.0\tCount: 12, Labels(2): [0: 11, 5: 1]\n",
      "Value: -5.0\tCount: 11, Labels(2): [0: 9, 5: 2]\n",
      "Value: -10.0\tCount: 4, Labels(1): [0: 4]\n",
      "Value: -6.0\tCount: 2, Labels(1): [0: 2]\n",
      "Value: -14.0\tCount: 2, Labels(1): [0: 2]\n",
      "Value: -8.0\tCount: 1, Labels(1): [5: 1]\n",
      "\n",
      "[Fwd IAT Min]: 17 개\n",
      "Value: -1.0\tCount: 15, Labels(3): [5: 7, 14: 5, 6: 3]\n",
      "Value: -12.0\tCount: 1, Labels(1): [14: 1]\n",
      "Value: -8.0\tCount: 1, Labels(1): [5: 1]\n",
      "\n",
      "[Fwd Header Length]: 35 개\n",
      "Value: -83885100.0\tCount: 8, Labels(1): [0: 8]\n",
      "Value: -167770000.0\tCount: 8, Labels(1): [0: 8]\n",
      "Value: -1073740000.0\tCount: 5, Labels(1): [0: 5]\n",
      "Value: -1006620000.0\tCount: 2, Labels(1): [0: 2]\n",
      "Value: -83885000.0\tCount: 2, Labels(1): [0: 2]\n",
      "Value: -6442450000.0\tCount: 2, Labels(1): [0: 2]\n",
      "Value: -1929350000.0\tCount: 1, Labels(1): [0: 1]\n",
      "Value: -83885200.0\tCount: 1, Labels(1): [0: 1]\n",
      "Value: -922738000.0\tCount: 1, Labels(1): [0: 1]\n",
      "Value: -9663670000.0\tCount: 1, Labels(1): [0: 1]\n",
      "Value: -32212200000.0\tCount: 1, Labels(1): [0: 1]\n",
      "Value: -4831830000.0\tCount: 1, Labels(1): [0: 1]\n",
      "Value: -2147480000.0\tCount: 1, Labels(1): [0: 1]\n",
      "Value: -11.0\tCount: 1, Labels(1): [0: 1]\n",
      "\n",
      "[Bwd Header Length]: 22 개\n",
      "Value: -83885100.0\tCount: 8, Labels(1): [0: 8]\n",
      "Value: -1073740000.0\tCount: 5, Labels(1): [0: 5]\n",
      "Value: -167770000.0\tCount: 4, Labels(1): [0: 4]\n",
      "Value: -83885200.0\tCount: 3, Labels(1): [0: 3]\n",
      "Value: -83885000.0\tCount: 2, Labels(1): [0: 2]\n",
      "\n",
      "[Fwd Header Length.1]: 35 개\n",
      "Value: -83885100.0\tCount: 8, Labels(1): [0: 8]\n",
      "Value: -167770000.0\tCount: 8, Labels(1): [0: 8]\n",
      "Value: -1073740000.0\tCount: 5, Labels(1): [0: 5]\n",
      "Value: -1006620000.0\tCount: 2, Labels(1): [0: 2]\n",
      "Value: -83885000.0\tCount: 2, Labels(1): [0: 2]\n",
      "Value: -6442450000.0\tCount: 2, Labels(1): [0: 2]\n",
      "Value: -1929350000.0\tCount: 1, Labels(1): [0: 1]\n",
      "Value: -83885200.0\tCount: 1, Labels(1): [0: 1]\n",
      "Value: -922738000.0\tCount: 1, Labels(1): [0: 1]\n",
      "Value: -9663670000.0\tCount: 1, Labels(1): [0: 1]\n",
      "Value: -32212200000.0\tCount: 1, Labels(1): [0: 1]\n",
      "Value: -4831830000.0\tCount: 1, Labels(1): [0: 1]\n",
      "Value: -2147480000.0\tCount: 1, Labels(1): [0: 1]\n",
      "Value: -11.0\tCount: 1, Labels(1): [0: 1]\n",
      "\n",
      "[Init_Win_bytes_forward]: 1001189 개\n",
      "Value: -1.0\tCount: 1001189, Labels(2): [0: 1001182, 13: 7]\n",
      "\n",
      "[Init_Win_bytes_backward]: 1441552 개\n",
      "Value: -1.0\tCount: 1441552, Labels(11): [0: 1318981, 5: 67060, 14: 46528, 4: 3172, 6: 2579, 3: 1642, 1: 1494, 13: 64, 9: 17, 2: 12, 11: 3]\n",
      "\n",
      "[min_seg_size_forward]: 35 개\n",
      "Value: -83885300.0\tCount: 23, Labels(1): [0: 23]\n",
      "Value: -536871000.0\tCount: 11, Labels(1): [0: 11]\n",
      "Value: -1.0\tCount: 1, Labels(1): [0: 1]\n",
      "\n"
     ]
    }
   ],
   "source": [
    "# 각 칼럼에서 등장하는 음수 값의 카운트\n",
    "for column in columns_with_negative_values.index:\n",
    "    # 음수 값만 필터링\n",
    "    negative_values = df[column][df[column] < 0]\n",
    "    \n",
    "    # 음수 값의 등장 횟수\n",
    "    negative_values_count = negative_values.value_counts()\n",
    "    \n",
    "    if not negative_values_count.empty:  # 음수가 하나라도 있으면 출력\n",
    "        print(f\"[{column}]: {negative_values_count.sum()} 개\")\n",
    "\n",
    "        # 각 음수 값에 해당하는 'Label' 칼럼의 value_counts 출력\n",
    "        for value in negative_values_count.index:\n",
    "            # 해당 음수 값에 해당하는 'Label' 칼럼의 value_counts 출력\n",
    "            label_counts = df[df[column] == value]['Label'].value_counts()\n",
    "\n",
    "            # 음수 값과 그 갯수, 레이블 분포를 한 줄로 출력\n",
    "            label_str = ', '.join([f\"{label}: {count}\" for label, count in label_counts.items()])\n",
    "            print(f\"Value: {value}\\tCount: {negative_values_count[value]}, Labels({len(label_counts)}): [{label_str}]\")\n",
    "        print()  # 각 칼럼별로 구분을 위해 빈 줄 추가\n",
    "\n",
    "# 0.8s"
   ]
  },
  {
   "cell_type": "code",
   "execution_count": 4,
   "metadata": {},
   "outputs": [
    {
     "name": "stdout",
     "output_type": "stream",
     "text": [
      "Flow Duration, Flow Packets/s, Flow IAT Mean, Flow IAT Max 칼럼의 음수가 포함된 인덱스가 동일합니다.\n"
     ]
    }
   ],
   "source": [
    "# 음수 값이 있는 데이터의 인덱스 추출\n",
    "negative_flow_duration = df[df['Flow Duration'] < 0].index\n",
    "\n",
    "# 네 칼럼에서 음수가 포함된 데이터가 동일한지 비교\n",
    "same_negative_indices = (negative_flow_duration == df[df['Flow Packets/s'] < 0].index) & \\\n",
    "                        (negative_flow_duration == df[df['Flow IAT Mean'] < 0].index) & \\\n",
    "                        (negative_flow_duration == df[df['Flow IAT Max'] < 0].index)\n",
    "\n",
    "# 결과 출력\n",
    "if same_negative_indices.all():\n",
    "    print(\"Flow Duration, Flow Packets/s, Flow IAT Mean, Flow IAT Max 칼럼의 음수가 포함된 인덱스가 동일합니다.\")\n",
    "else:\n",
    "    print(\"음수가 포함된 데이터는 네 칼럼에서 동일하지 않습니다.\")\n",
    "\n",
    "# 0.0s"
   ]
  },
  {
   "cell_type": "code",
   "execution_count": 5,
   "metadata": {},
   "outputs": [
    {
     "name": "stdout",
     "output_type": "stream",
     "text": [
      "Label의 unique 값이 0 하나인 음수가 포함된 칼럼들:\n",
      "['Flow Duration', 'Flow Bytes/s', 'Flow Packets/s', 'Flow IAT Mean', 'Flow IAT Max', 'Fwd Header Length', 'Bwd Header Length', 'Fwd Header Length.1', 'min_seg_size_forward']\n"
     ]
    }
   ],
   "source": [
    "# 음수가 포함된 칼럼들 추출\n",
    "negative_columns = df.columns[df.min() < 0]\n",
    "\n",
    "# 'Label' 칼럼의 unique 값이 0 하나인 음수가 포함된 칼럼 추출\n",
    "columns_with_only_zero_label = [\n",
    "    col for col in negative_columns\n",
    "    if df[df[col] < 0]['Label'].nunique() == 1 and df[df[col] < 0]['Label'].unique()[0] == 0\n",
    "]\n",
    "\n",
    "# 결과 출력\n",
    "print(\"Label의 unique 값이 0 하나인 음수가 포함된 칼럼들:\")\n",
    "print(columns_with_only_zero_label)\n",
    "\n",
    "# 0.9s"
   ]
  },
  {
   "cell_type": "code",
   "execution_count": 6,
   "metadata": {},
   "outputs": [
    {
     "name": "stdout",
     "output_type": "stream",
     "text": [
      " 음수가 포함된 칼럼 중 Label의 unique 값이 0 하나인 칼럼들의 데이터 수: 150개\n"
     ]
    }
   ],
   "source": [
    "# 음수 데이터가 등장하는 행 필터링\n",
    "rows_with_negative_values = df[\n",
    "    (df[columns_with_only_zero_label] < 0).any(axis=1)\n",
    "]\n",
    "\n",
    "# 음수 데이터가 등장하는 행의 개수 확인\n",
    "negative_row_count = rows_with_negative_values.shape[0]\n",
    "\n",
    "# 결과 출력\n",
    "print(f\" 음수가 포함된 칼럼 중 Label의 unique 값이 0 하나인 칼럼들의 데이터 수: {negative_row_count}개\")\n",
    "\n",
    "# 0.0s"
   ]
  },
  {
   "cell_type": "code",
   "execution_count": null,
   "metadata": {},
   "outputs": [],
   "source": []
  }
 ],
 "metadata": {
  "kernelspec": {
   "display_name": "base",
   "language": "python",
   "name": "python3"
  },
  "language_info": {
   "codemirror_mode": {
    "name": "ipython",
    "version": 3
   },
   "file_extension": ".py",
   "mimetype": "text/x-python",
   "name": "python",
   "nbconvert_exporter": "python",
   "pygments_lexer": "ipython3",
   "version": "3.12.4"
  }
 },
 "nbformat": 4,
 "nbformat_minor": 2
}
