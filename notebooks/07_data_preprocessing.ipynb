{
 "cells": [
  {
   "cell_type": "code",
   "execution_count": null,
   "metadata": {},
   "outputs": [],
   "source": [
    "import pandas as pd\n",
    "\n",
    "# 모든 열이 출력되도록 설정\n",
    "pd.set_option('display.max_columns', None)\n",
    "\n",
    "df = pd.read_csv(\"../data/processed/db_network_data_table.csv\")\n",
    "\n",
    "# 11.6s"
   ]
  },
  {
   "cell_type": "code",
   "execution_count": 2,
   "metadata": {},
   "outputs": [],
   "source": [
    "# DB에서 받은 파일이 없을 시, csv 파일을 읽어와 하나로 합치고 칼럼명 좌우 공백 제거 및 inf 값 0으로 대체\n",
    "\n",
    "# import os\n",
    "# import pandas as pd\n",
    "# import numpy as np\n",
    "\n",
    "# # 모든 열이 출력되도록 설정\n",
    "# pd.set_option('display.max_columns', None)\n",
    "\n",
    "# # CSV 파일이 있는 디렉토리 경로\n",
    "# csv_file_path = '../data/raw'\n",
    "\n",
    "# # 디렉토리 내 모든 CSV 파일 리스트 가져오기\n",
    "# csv_files = [f for f in os.listdir(csv_file_path) if f.endswith('.csv')]\n",
    "\n",
    "# # 모든 CSV 파일을 읽어와 하나의 데이터프레임으로 결합\n",
    "# df_list = []\n",
    "# for file in csv_files:\n",
    "#     file_path = os.path.join(csv_file_path, file)\n",
    "#     df = pd.read_csv(file_path)\n",
    "#     df_list.append(df)\n",
    "\n",
    "# # 모든 데이터프레임을 하나로 합침\n",
    "# df = pd.concat(df_list, ignore_index=True)\n",
    "\n",
    "# # 컬럼명 좌우 공백 제거\n",
    "# df.columns = df.columns.str.strip()\n",
    "\n",
    "# # inf 값을 0으로 대체\n",
    "# df.replace([np.inf, -np.inf], 0, inplace=True)"
   ]
  },
  {
   "cell_type": "code",
   "execution_count": null,
   "metadata": {},
   "outputs": [],
   "source": [
    "# 불필요한 칼럼\n",
    "columns_to_drop = ['id', 'source'] \n",
    "\n",
    "# 단일 값으로 이루어진 칼럼\n",
    "columns_to_drop.extend(['Bwd PSH Flags', 'Bwd URG Flags', 'Fwd Avg Bytes/Bulk', \n",
    "                        'Fwd Avg Packets/Bulk', 'Fwd Avg Bulk Rate', 'Bwd Avg Bytes/Bulk', \n",
    "                        'Bwd Avg Packets/Bulk', 'Bwd Avg Bulk Rate'])\n",
    "\n",
    "# 중복된 칼럼\n",
    "columns_to_drop.extend(['Subflow Fwd Packets', 'Subflow Bwd Packets', 'Avg Fwd Segment Size', \n",
    "                        'Avg Bwd Segment Size', 'SYN Flag Count', 'CWE Flag Count', 'Fwd Header Length.1'])\n",
    "\n",
    "# 칼럼 제거\n",
    "df_cleaned = df.drop(columns=columns_to_drop)\n",
    "\n",
    "# 0.2s"
   ]
  },
  {
   "cell_type": "code",
   "execution_count": null,
   "metadata": {},
   "outputs": [],
   "source": [
    "# 음수값 처리: 음수값이 포함된 칼럼의 'Label' 값이 0인 데이터만 삭제합니다.\n",
    "\n",
    "# 칼럼에 포함되어있는 모든 음수 데이터의 'Label' 값이 0 하나인 칼럼\n",
    "negative_columns_with_only_zero_label = ['Flow Duration', 'Flow Bytes/s', 'Flow Packets/s', \n",
    "                                         'Flow IAT Mean', 'Flow IAT Max', 'Fwd Header Length', \n",
    "                                         'Bwd Header Length', 'min_seg_size_forward'] #Fwd Header Length.1 는 Fwd Header Length와 동일 칼럼으로 삭제\n",
    "\n",
    "# 해당 칼럼의 음수 값이 있는 행 삭제\n",
    "for col in negative_columns_with_only_zero_label:\n",
    "    df_cleaned = df_cleaned[df_cleaned[col] >= 0] \n",
    "\n",
    "# 2.7s"
   ]
  },
  {
   "cell_type": "code",
   "execution_count": null,
   "metadata": {},
   "outputs": [
    {
     "name": "stdout",
     "output_type": "stream",
     "text": [
      "\n",
      "데이터가 성공적으로 'data_cleaned.csv'로 저장되었습니다.\n"
     ]
    }
   ],
   "source": [
    "# 결과 파일로 저장\n",
    "# 최종 데이터를 'data_cleaned.csv'로 저장\n",
    "df_cleaned.to_csv(\"../data/processed/data_cleaned.csv\", index=False)\n",
    "\n",
    "# 완료 메시지 출력\n",
    "print(f\"\\n데이터가 성공적으로 'data_cleaned.csv'로 저장되었습니다.\")\n",
    "\n",
    "# 58.3"
   ]
  }
 ],
 "metadata": {
  "kernelspec": {
   "display_name": "base",
   "language": "python",
   "name": "python3"
  },
  "language_info": {
   "codemirror_mode": {
    "name": "ipython",
    "version": 3
   },
   "file_extension": ".py",
   "mimetype": "text/x-python",
   "name": "python",
   "nbconvert_exporter": "python",
   "pygments_lexer": "ipython3",
   "version": "3.12.4"
  }
 },
 "nbformat": 4,
 "nbformat_minor": 2
}
